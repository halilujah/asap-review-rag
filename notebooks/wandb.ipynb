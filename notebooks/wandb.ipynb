{
 "cells": [
  {
   "cell_type": "code",
   "execution_count": 2,
   "id": "516fa51d",
   "metadata": {},
   "outputs": [
    {
     "name": "stderr",
     "output_type": "stream",
     "text": [
      "\u001b[34m\u001b[1mwandb\u001b[0m: Logging into wandb.ai. (Learn how to deploy a W&B server locally: https://wandb.me/wandb-server)\n",
      "\u001b[34m\u001b[1mwandb\u001b[0m: You can find your API key in your browser here: https://wandb.ai/authorize\n",
      "\u001b[34m\u001b[1mwandb\u001b[0m: Paste an API key from your profile and hit enter:\u001b[34m\u001b[1mwandb\u001b[0m: Paste an API key from your profile and hit enter:\u001b[34m\u001b[1mwandb\u001b[0m: \u001b[33mWARNING\u001b[0m If you're specifying your api key in code, ensure this code is not shared publicly.\n",
      "\u001b[34m\u001b[1mwandb\u001b[0m: \u001b[33mWARNING\u001b[0m Consider setting the WANDB_API_KEY environment variable, or running `wandb login` from the command line.\n",
      "\u001b[34m\u001b[1mwandb\u001b[0m: Appending key for api.wandb.ai to your netrc file: C:\\Users\\halil\\_netrc\n",
      "\u001b[34m\u001b[1mwandb\u001b[0m: Currently logged in as: \u001b[33mhalil-yasavul\u001b[0m (\u001b[33mhalil-yasavul-middle-east-technical-university\u001b[0m) to \u001b[32mhttps://api.wandb.ai\u001b[0m. Use \u001b[1m`wandb login --relogin`\u001b[0m to force relogin\n"
     ]
    },
    {
     "data": {
      "text/plain": [
       "True"
      ]
     },
     "execution_count": 2,
     "metadata": {},
     "output_type": "execute_result"
    }
   ],
   "source": [
    "import wandb\n",
    "\n",
    "wandb.login(relogin=True)"
   ]
  },
  {
   "cell_type": "code",
   "execution_count": 3,
   "id": "ab3e2a54",
   "metadata": {},
   "outputs": [
    {
     "data": {
      "text/html": [
       "Tracking run with wandb version 0.19.11"
      ],
      "text/plain": [
       "<IPython.core.display.HTML object>"
      ]
     },
     "metadata": {},
     "output_type": "display_data"
    },
    {
     "data": {
      "text/html": [
       "Run data is saved locally in <code>c:\\Users\\halil\\Documents\\asap-review-rag\\notebooks\\wandb\\run-20250624_212119-11fify73</code>"
      ],
      "text/plain": [
       "<IPython.core.display.HTML object>"
      ]
     },
     "metadata": {},
     "output_type": "display_data"
    },
    {
     "data": {
      "text/html": [
       "Syncing run <strong><a href='https://wandb.ai/halil-yasavul-middle-east-technical-university/asap-rag-peer-review/runs/11fify73' target=\"_blank\">preliminary-results-v1</a></strong> to <a href='https://wandb.ai/halil-yasavul-middle-east-technical-university/asap-rag-peer-review' target=\"_blank\">Weights & Biases</a> (<a href='https://wandb.me/developer-guide' target=\"_blank\">docs</a>)<br>"
      ],
      "text/plain": [
       "<IPython.core.display.HTML object>"
      ]
     },
     "metadata": {},
     "output_type": "display_data"
    },
    {
     "data": {
      "text/html": [
       " View project at <a href='https://wandb.ai/halil-yasavul-middle-east-technical-university/asap-rag-peer-review' target=\"_blank\">https://wandb.ai/halil-yasavul-middle-east-technical-university/asap-rag-peer-review</a>"
      ],
      "text/plain": [
       "<IPython.core.display.HTML object>"
      ]
     },
     "metadata": {},
     "output_type": "display_data"
    },
    {
     "data": {
      "text/html": [
       " View run at <a href='https://wandb.ai/halil-yasavul-middle-east-technical-university/asap-rag-peer-review/runs/11fify73' target=\"_blank\">https://wandb.ai/halil-yasavul-middle-east-technical-university/asap-rag-peer-review/runs/11fify73</a>"
      ],
      "text/plain": [
       "<IPython.core.display.HTML object>"
      ]
     },
     "metadata": {},
     "output_type": "display_data"
    },
    {
     "data": {
      "text/html": [
       "<button onClick=\"this.nextSibling.style.display='block';this.style.display='none';\">Display W&B run</button><iframe src='https://wandb.ai/halil-yasavul-middle-east-technical-university/asap-rag-peer-review/runs/11fify73?jupyter=true' style='border:none;width:100%;height:420px;display:none;'></iframe>"
      ],
      "text/plain": [
       "<wandb.sdk.wandb_run.Run at 0x29cbed39a90>"
      ]
     },
     "execution_count": 3,
     "metadata": {},
     "output_type": "execute_result"
    }
   ],
   "source": [
    "wandb.init(\n",
    "    project=\"asap-rag-peer-review\",\n",
    "    name=\"preliminary-results-v1\",\n",
    "    config={\n",
    "        \"retriever\": \"Sentence-BERT (all-MiniLM-L6-v2)\",\n",
    "        \"input\": \"title + intro\",\n",
    "        \"aggregation\": \"softmax-weighted voting\",\n",
    "        \"k\": 10,\n",
    "        \"baseline_accuracy\": 0.43,\n",
    "        \"preliminary_accuracy\": 0.60\n",
    "    }\n",
    ")\n"
   ]
  },
  {
   "cell_type": "code",
   "execution_count": 4,
   "id": "fb329222",
   "metadata": {},
   "outputs": [
    {
     "data": {
      "text/html": [
       "Finishing previous runs because reinit is set to 'default'."
      ],
      "text/plain": [
       "<IPython.core.display.HTML object>"
      ]
     },
     "metadata": {},
     "output_type": "display_data"
    },
    {
     "name": "stderr",
     "output_type": "stream",
     "text": [
      "\u001b[34m\u001b[1mwandb\u001b[0m: \u001b[32m\u001b[41mERROR\u001b[0m The nbformat package was not found. It is required to save notebook history.\n"
     ]
    },
    {
     "data": {
      "text/html": [],
      "text/plain": [
       "<IPython.core.display.HTML object>"
      ]
     },
     "metadata": {},
     "output_type": "display_data"
    },
    {
     "data": {
      "text/html": [
       " View run <strong style=\"color:#cdcd00\">preliminary-results-v1</strong> at: <a href='https://wandb.ai/halil-yasavul-middle-east-technical-university/asap-rag-peer-review/runs/11fify73' target=\"_blank\">https://wandb.ai/halil-yasavul-middle-east-technical-university/asap-rag-peer-review/runs/11fify73</a><br> View project at: <a href='https://wandb.ai/halil-yasavul-middle-east-technical-university/asap-rag-peer-review' target=\"_blank\">https://wandb.ai/halil-yasavul-middle-east-technical-university/asap-rag-peer-review</a><br>Synced 5 W&B file(s), 0 media file(s), 0 artifact file(s) and 0 other file(s)"
      ],
      "text/plain": [
       "<IPython.core.display.HTML object>"
      ]
     },
     "metadata": {},
     "output_type": "display_data"
    },
    {
     "data": {
      "text/html": [
       "Find logs at: <code>.\\wandb\\run-20250624_212119-11fify73\\logs</code>"
      ],
      "text/plain": [
       "<IPython.core.display.HTML object>"
      ]
     },
     "metadata": {},
     "output_type": "display_data"
    },
    {
     "data": {
      "text/html": [
       "Tracking run with wandb version 0.19.11"
      ],
      "text/plain": [
       "<IPython.core.display.HTML object>"
      ]
     },
     "metadata": {},
     "output_type": "display_data"
    },
    {
     "data": {
      "text/html": [
       "Run data is saved locally in <code>c:\\Users\\halil\\Documents\\asap-review-rag\\notebooks\\wandb\\run-20250624_212121-st4jzhbn</code>"
      ],
      "text/plain": [
       "<IPython.core.display.HTML object>"
      ]
     },
     "metadata": {},
     "output_type": "display_data"
    },
    {
     "data": {
      "text/html": [
       "Syncing run <strong><a href='https://wandb.ai/halil-yasavul-middle-east-technical-university/asap-rag-peer-review/runs/st4jzhbn' target=\"_blank\">preliminary-results-v1</a></strong> to <a href='https://wandb.ai/halil-yasavul-middle-east-technical-university/asap-rag-peer-review' target=\"_blank\">Weights & Biases</a> (<a href='https://wandb.me/developer-guide' target=\"_blank\">docs</a>)<br>"
      ],
      "text/plain": [
       "<IPython.core.display.HTML object>"
      ]
     },
     "metadata": {},
     "output_type": "display_data"
    },
    {
     "data": {
      "text/html": [
       " View project at <a href='https://wandb.ai/halil-yasavul-middle-east-technical-university/asap-rag-peer-review' target=\"_blank\">https://wandb.ai/halil-yasavul-middle-east-technical-university/asap-rag-peer-review</a>"
      ],
      "text/plain": [
       "<IPython.core.display.HTML object>"
      ]
     },
     "metadata": {},
     "output_type": "display_data"
    },
    {
     "data": {
      "text/html": [
       " View run at <a href='https://wandb.ai/halil-yasavul-middle-east-technical-university/asap-rag-peer-review/runs/st4jzhbn' target=\"_blank\">https://wandb.ai/halil-yasavul-middle-east-technical-university/asap-rag-peer-review/runs/st4jzhbn</a>"
      ],
      "text/plain": [
       "<IPython.core.display.HTML object>"
      ]
     },
     "metadata": {},
     "output_type": "display_data"
    },
    {
     "data": {
      "text/html": [],
      "text/plain": [
       "<IPython.core.display.HTML object>"
      ]
     },
     "metadata": {},
     "output_type": "display_data"
    },
    {
     "data": {
      "text/html": [
       "<br>    <style><br>        .wandb-row {<br>            display: flex;<br>            flex-direction: row;<br>            flex-wrap: wrap;<br>            justify-content: flex-start;<br>            width: 100%;<br>        }<br>        .wandb-col {<br>            display: flex;<br>            flex-direction: column;<br>            flex-basis: 100%;<br>            flex: 1;<br>            padding: 10px;<br>        }<br>    </style><br><div class=\"wandb-row\"><div class=\"wandb-col\"><h3>Run history:</h3><br/><table class=\"wandb\"><tr><td>accept_as_accept</td><td>▁</td></tr><tr><td>accept_as_reject</td><td>▁</td></tr><tr><td>accuracy_baseline</td><td>▁</td></tr><tr><td>accuracy_preliminary</td><td>▁</td></tr><tr><td>correct_predictions</td><td>▁</td></tr><tr><td>reject_as_accept</td><td>▁</td></tr><tr><td>reject_as_reject</td><td>▁</td></tr><tr><td>total_predictions</td><td>▁</td></tr></table><br/></div><div class=\"wandb-col\"><h3>Run summary:</h3><br/><table class=\"wandb\"><tr><td>accept_as_accept</td><td>4088</td></tr><tr><td>accept_as_reject</td><td>1301</td></tr><tr><td>accuracy_baseline</td><td>0.43</td></tr><tr><td>accuracy_preliminary</td><td>0.6</td></tr><tr><td>correct_predictions</td><td>5300</td></tr><tr><td>reject_as_accept</td><td>2126</td></tr><tr><td>reject_as_reject</td><td>1207</td></tr><tr><td>total_predictions</td><td>8900</td></tr></table><br/></div></div>"
      ],
      "text/plain": [
       "<IPython.core.display.HTML object>"
      ]
     },
     "metadata": {},
     "output_type": "display_data"
    },
    {
     "data": {
      "text/html": [
       " View run <strong style=\"color:#cdcd00\">preliminary-results-v1</strong> at: <a href='https://wandb.ai/halil-yasavul-middle-east-technical-university/asap-rag-peer-review/runs/st4jzhbn' target=\"_blank\">https://wandb.ai/halil-yasavul-middle-east-technical-university/asap-rag-peer-review/runs/st4jzhbn</a><br> View project at: <a href='https://wandb.ai/halil-yasavul-middle-east-technical-university/asap-rag-peer-review' target=\"_blank\">https://wandb.ai/halil-yasavul-middle-east-technical-university/asap-rag-peer-review</a><br>Synced 5 W&B file(s), 0 media file(s), 0 artifact file(s) and 0 other file(s)"
      ],
      "text/plain": [
       "<IPython.core.display.HTML object>"
      ]
     },
     "metadata": {},
     "output_type": "display_data"
    },
    {
     "data": {
      "text/html": [
       "Find logs at: <code>.\\wandb\\run-20250624_212121-st4jzhbn\\logs</code>"
      ],
      "text/plain": [
       "<IPython.core.display.HTML object>"
      ]
     },
     "metadata": {},
     "output_type": "display_data"
    }
   ],
   "source": [
    "run = wandb.init(project=\"asap-rag-peer-review\", name=\"preliminary-results-v1\")\n",
    "\n",
    "# Log simple scalar metrics\n",
    "run.log({\n",
    "    \"accuracy_preliminary\": 0.60,\n",
    "    \"accuracy_baseline\": 0.43,\n",
    "    \"correct_predictions\": 5300,\n",
    "    \"total_predictions\": 8900,\n",
    "    \"accept_as_accept\": 4088,\n",
    "    \"accept_as_reject\": 1301,\n",
    "    \"reject_as_accept\": 2126,\n",
    "    \"reject_as_reject\": 1207\n",
    "},step=0)\n",
    "\n",
    "# End run\n",
    "run.finish()"
   ]
  },
  {
   "cell_type": "code",
   "execution_count": 5,
   "id": "682729f7",
   "metadata": {},
   "outputs": [
    {
     "data": {
      "text/html": [
       "Tracking run with wandb version 0.19.11"
      ],
      "text/plain": [
       "<IPython.core.display.HTML object>"
      ]
     },
     "metadata": {},
     "output_type": "display_data"
    },
    {
     "data": {
      "text/html": [
       "Run data is saved locally in <code>c:\\Users\\halil\\Documents\\asap-review-rag\\notebooks\\wandb\\run-20250624_212129-ipjdyqk3</code>"
      ],
      "text/plain": [
       "<IPython.core.display.HTML object>"
      ]
     },
     "metadata": {},
     "output_type": "display_data"
    },
    {
     "data": {
      "text/html": [
       "Syncing run <strong><a href='https://wandb.ai/halil-yasavul-middle-east-technical-university/asap-rag-peer-review/runs/ipjdyqk3' target=\"_blank\">final-results-mpnet-k15</a></strong> to <a href='https://wandb.ai/halil-yasavul-middle-east-technical-university/asap-rag-peer-review' target=\"_blank\">Weights & Biases</a> (<a href='https://wandb.me/developer-guide' target=\"_blank\">docs</a>)<br>"
      ],
      "text/plain": [
       "<IPython.core.display.HTML object>"
      ]
     },
     "metadata": {},
     "output_type": "display_data"
    },
    {
     "data": {
      "text/html": [
       " View project at <a href='https://wandb.ai/halil-yasavul-middle-east-technical-university/asap-rag-peer-review' target=\"_blank\">https://wandb.ai/halil-yasavul-middle-east-technical-university/asap-rag-peer-review</a>"
      ],
      "text/plain": [
       "<IPython.core.display.HTML object>"
      ]
     },
     "metadata": {},
     "output_type": "display_data"
    },
    {
     "data": {
      "text/html": [
       " View run at <a href='https://wandb.ai/halil-yasavul-middle-east-technical-university/asap-rag-peer-review/runs/ipjdyqk3' target=\"_blank\">https://wandb.ai/halil-yasavul-middle-east-technical-university/asap-rag-peer-review/runs/ipjdyqk3</a>"
      ],
      "text/plain": [
       "<IPython.core.display.HTML object>"
      ]
     },
     "metadata": {},
     "output_type": "display_data"
    },
    {
     "data": {
      "text/html": [
       "<button onClick=\"this.nextSibling.style.display='block';this.style.display='none';\">Display W&B run</button><iframe src='https://wandb.ai/halil-yasavul-middle-east-technical-university/asap-rag-peer-review/runs/ipjdyqk3?jupyter=true' style='border:none;width:100%;height:420px;display:none;'></iframe>"
      ],
      "text/plain": [
       "<wandb.sdk.wandb_run.Run at 0x29cbed60890>"
      ]
     },
     "execution_count": 5,
     "metadata": {},
     "output_type": "execute_result"
    }
   ],
   "source": [
    "wandb.init(\n",
    "    project=\"asap-rag-peer-review\",\n",
    "    name=\"final-results-mpnet-k15\",\n",
    "    config={\n",
    "        \"embedding_model\": \"all-mpnet-base-v2\",\n",
    "        \"input\": \"title + intro\",\n",
    "        \"top_k\": 15,\n",
    "        \"label_space\": [\"Accept\", \"Reject\", \"Other\"],\n",
    "        \"accuracy\": 0.64\n",
    "    }\n",
    ")\n"
   ]
  },
  {
   "cell_type": "code",
   "execution_count": 6,
   "id": "fc38750f",
   "metadata": {},
   "outputs": [],
   "source": [
    "wandb.log({\n",
    "    \"final_accuracy\": 0.64,\n",
    "    \"accept→accept\": 4350,\n",
    "    \"accept→reject\": 1039,\n",
    "    \"reject→accept\": 2055,\n",
    "    \"reject→reject\": 1278,\n",
    "    \"other→accept\": 101,\n",
    "    \"other→reject\": 32\n",
    "})\n"
   ]
  },
  {
   "cell_type": "code",
   "execution_count": 7,
   "id": "48389274",
   "metadata": {},
   "outputs": [
    {
     "name": "stderr",
     "output_type": "stream",
     "text": [
      "\u001b[34m\u001b[1mwandb\u001b[0m: \u001b[32m\u001b[41mERROR\u001b[0m The nbformat package was not found. It is required to save notebook history.\n"
     ]
    },
    {
     "data": {
      "text/html": [],
      "text/plain": [
       "<IPython.core.display.HTML object>"
      ]
     },
     "metadata": {},
     "output_type": "display_data"
    },
    {
     "data": {
      "text/html": [
       "<br>    <style><br>        .wandb-row {<br>            display: flex;<br>            flex-direction: row;<br>            flex-wrap: wrap;<br>            justify-content: flex-start;<br>            width: 100%;<br>        }<br>        .wandb-col {<br>            display: flex;<br>            flex-direction: column;<br>            flex-basis: 100%;<br>            flex: 1;<br>            padding: 10px;<br>        }<br>    </style><br><div class=\"wandb-row\"><div class=\"wandb-col\"><h3>Run history:</h3><br/><table class=\"wandb\"><tr><td>accept→accept</td><td>▁</td></tr><tr><td>accept→reject</td><td>▁</td></tr><tr><td>final_accuracy</td><td>▁</td></tr><tr><td>other→accept</td><td>▁</td></tr><tr><td>other→reject</td><td>▁</td></tr><tr><td>reject→accept</td><td>▁</td></tr><tr><td>reject→reject</td><td>▁</td></tr></table><br/></div><div class=\"wandb-col\"><h3>Run summary:</h3><br/><table class=\"wandb\"><tr><td>accept→accept</td><td>4350</td></tr><tr><td>accept→reject</td><td>1039</td></tr><tr><td>final_accuracy</td><td>0.64</td></tr><tr><td>other→accept</td><td>101</td></tr><tr><td>other→reject</td><td>32</td></tr><tr><td>reject→accept</td><td>2055</td></tr><tr><td>reject→reject</td><td>1278</td></tr></table><br/></div></div>"
      ],
      "text/plain": [
       "<IPython.core.display.HTML object>"
      ]
     },
     "metadata": {},
     "output_type": "display_data"
    },
    {
     "data": {
      "text/html": [
       " View run <strong style=\"color:#cdcd00\">final-results-mpnet-k15</strong> at: <a href='https://wandb.ai/halil-yasavul-middle-east-technical-university/asap-rag-peer-review/runs/ipjdyqk3' target=\"_blank\">https://wandb.ai/halil-yasavul-middle-east-technical-university/asap-rag-peer-review/runs/ipjdyqk3</a><br> View project at: <a href='https://wandb.ai/halil-yasavul-middle-east-technical-university/asap-rag-peer-review' target=\"_blank\">https://wandb.ai/halil-yasavul-middle-east-technical-university/asap-rag-peer-review</a><br>Synced 5 W&B file(s), 0 media file(s), 0 artifact file(s) and 0 other file(s)"
      ],
      "text/plain": [
       "<IPython.core.display.HTML object>"
      ]
     },
     "metadata": {},
     "output_type": "display_data"
    },
    {
     "data": {
      "text/html": [
       "Find logs at: <code>.\\wandb\\run-20250624_212129-ipjdyqk3\\logs</code>"
      ],
      "text/plain": [
       "<IPython.core.display.HTML object>"
      ]
     },
     "metadata": {},
     "output_type": "display_data"
    }
   ],
   "source": [
    "wandb.finish()\n"
   ]
  }
 ],
 "metadata": {
  "kernelspec": {
   "display_name": "Python 3",
   "language": "python",
   "name": "python3"
  },
  "language_info": {
   "codemirror_mode": {
    "name": "ipython",
    "version": 3
   },
   "file_extension": ".py",
   "mimetype": "text/x-python",
   "name": "python",
   "nbconvert_exporter": "python",
   "pygments_lexer": "ipython3",
   "version": "3.12.4"
  }
 },
 "nbformat": 4,
 "nbformat_minor": 5
}
