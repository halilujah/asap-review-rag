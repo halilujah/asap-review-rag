{
 "cells": [
  {
   "cell_type": "markdown",
   "id": "2b0136aa",
   "metadata": {},
   "source": [
    "ASAP-Review Dataset EDA Notebook"
   ]
  },
  {
   "cell_type": "markdown",
   "id": "a04a36ab",
   "metadata": {},
   "source": [
    "1. Import Libraries"
   ]
  },
  {
   "cell_type": "code",
   "execution_count": 2,
   "id": "57201dd1",
   "metadata": {},
   "outputs": [],
   "source": [
    "import os\n",
    "import json\n",
    "import pandas as pd\n",
    "import matplotlib.pyplot as plt\n",
    "import seaborn as sns"
   ]
  },
  {
   "cell_type": "markdown",
   "id": "a7b5e26c",
   "metadata": {},
   "source": [
    "2. Define Paths"
   ]
  },
  {
   "cell_type": "code",
   "execution_count": 3,
   "id": "cfc20c5b",
   "metadata": {},
   "outputs": [],
   "source": [
    "DATASET_DIR = '../data/dataset'\n",
    "YEARS = ['ICLR_2017', 'ICLR_2018', 'ICLR_2019', 'ICLR_2020', 'NIPS_2016', 'NIPS_2017', 'NIPS_2018', 'NIPS_2019']\n"
   ]
  },
  {
   "cell_type": "markdown",
   "id": "7208c2ec",
   "metadata": {},
   "source": [
    "3. Load Paper Metadata"
   ]
  },
  {
   "cell_type": "code",
   "execution_count": 4,
   "id": "e52dbe59",
   "metadata": {},
   "outputs": [
    {
     "name": "stdout",
     "output_type": "stream",
     "text": [
      "Loaded 8877 papers.\n"
     ]
    },
    {
     "data": {
      "text/html": [
       "<div>\n",
       "<style scoped>\n",
       "    .dataframe tbody tr th:only-of-type {\n",
       "        vertical-align: middle;\n",
       "    }\n",
       "\n",
       "    .dataframe tbody tr th {\n",
       "        vertical-align: top;\n",
       "    }\n",
       "\n",
       "    .dataframe thead th {\n",
       "        text-align: right;\n",
       "    }\n",
       "</style>\n",
       "<table border=\"1\" class=\"dataframe\">\n",
       "  <thead>\n",
       "    <tr style=\"text-align: right;\">\n",
       "      <th></th>\n",
       "      <th>paper_id</th>\n",
       "      <th>conference</th>\n",
       "      <th>year</th>\n",
       "      <th>decision</th>\n",
       "      <th>title</th>\n",
       "      <th>authors</th>\n",
       "    </tr>\n",
       "  </thead>\n",
       "  <tbody>\n",
       "    <tr>\n",
       "      <th>0</th>\n",
       "      <td>ICLR_2017_100</td>\n",
       "      <td>ICLR</td>\n",
       "      <td>2017</td>\n",
       "      <td>Accept (Poster)</td>\n",
       "      <td>Introspection:Accelerating Neural Network Trai...</td>\n",
       "      <td>[Abhishek Sinha, Aahitagni Mukherjee, Mausoom ...</td>\n",
       "    </tr>\n",
       "    <tr>\n",
       "      <th>1</th>\n",
       "      <td>ICLR_2017_101</td>\n",
       "      <td>ICLR</td>\n",
       "      <td>2017</td>\n",
       "      <td>Accept (Poster)</td>\n",
       "      <td>Hyperband: Bandit-Based Configuration Evaluati...</td>\n",
       "      <td>[Lisha Li, Kevin Jamieson, Giulia DeSalvo, Afs...</td>\n",
       "    </tr>\n",
       "    <tr>\n",
       "      <th>2</th>\n",
       "      <td>ICLR_2017_102</td>\n",
       "      <td>ICLR</td>\n",
       "      <td>2017</td>\n",
       "      <td>Accept (Poster)</td>\n",
       "      <td>Lie-Access Neural Turing Machines</td>\n",
       "      <td>[Greg Yang, Alexander Rush]</td>\n",
       "    </tr>\n",
       "    <tr>\n",
       "      <th>3</th>\n",
       "      <td>ICLR_2017_103</td>\n",
       "      <td>ICLR</td>\n",
       "      <td>2017</td>\n",
       "      <td>Accept (Poster)</td>\n",
       "      <td>Quasi-Recurrent Neural Networks</td>\n",
       "      <td>[James Bradbury, Stephen Merity, Caiming Xiong...</td>\n",
       "    </tr>\n",
       "    <tr>\n",
       "      <th>4</th>\n",
       "      <td>ICLR_2017_104</td>\n",
       "      <td>ICLR</td>\n",
       "      <td>2017</td>\n",
       "      <td>Accept (Poster)</td>\n",
       "      <td>Recurrent Environment Simulators</td>\n",
       "      <td>[Silvia Chiappa, Sébastien Racaniere, Daan Wie...</td>\n",
       "    </tr>\n",
       "  </tbody>\n",
       "</table>\n",
       "</div>"
      ],
      "text/plain": [
       "        paper_id conference  year         decision  \\\n",
       "0  ICLR_2017_100       ICLR  2017  Accept (Poster)   \n",
       "1  ICLR_2017_101       ICLR  2017  Accept (Poster)   \n",
       "2  ICLR_2017_102       ICLR  2017  Accept (Poster)   \n",
       "3  ICLR_2017_103       ICLR  2017  Accept (Poster)   \n",
       "4  ICLR_2017_104       ICLR  2017  Accept (Poster)   \n",
       "\n",
       "                                               title  \\\n",
       "0  Introspection:Accelerating Neural Network Trai...   \n",
       "1  Hyperband: Bandit-Based Configuration Evaluati...   \n",
       "2                  Lie-Access Neural Turing Machines   \n",
       "3                    Quasi-Recurrent Neural Networks   \n",
       "4                   Recurrent Environment Simulators   \n",
       "\n",
       "                                             authors  \n",
       "0  [Abhishek Sinha, Aahitagni Mukherjee, Mausoom ...  \n",
       "1  [Lisha Li, Kevin Jamieson, Giulia DeSalvo, Afs...  \n",
       "2                        [Greg Yang, Alexander Rush]  \n",
       "3  [James Bradbury, Stephen Merity, Caiming Xiong...  \n",
       "4  [Silvia Chiappa, Sébastien Racaniere, Daan Wie...  "
      ]
     },
     "execution_count": 4,
     "metadata": {},
     "output_type": "execute_result"
    }
   ],
   "source": [
    "metadata_list = []\n",
    "\n",
    "for year in YEARS:\n",
    "    paper_dir = os.path.join(DATASET_DIR, year, f'{year}_paper')\n",
    "    if not os.path.exists(paper_dir):\n",
    "        continue\n",
    "    for file_name in os.listdir(paper_dir):\n",
    "        if file_name.endswith('.json'):\n",
    "            with open(os.path.join(paper_dir, file_name), 'r', encoding='utf-8') as f:\n",
    "                data = json.load(f)\n",
    "                metadata_list.append({\n",
    "                    'paper_id': data.get('id'),\n",
    "                    'conference': data.get('conference'),\n",
    "                    'year': year.split('_')[1],\n",
    "                    'decision': data.get('decision'),\n",
    "                    'title': data.get('title'),\n",
    "                    'authors': data.get('authors', [])\n",
    "                })\n",
    "\n",
    "metadata_df = pd.DataFrame(metadata_list)\n",
    "print(f\"Loaded {len(metadata_df)} papers.\")\n",
    "metadata_df.head()"
   ]
  },
  {
   "cell_type": "markdown",
   "id": "0ed3e1c8",
   "metadata": {},
   "source": [
    "4. Basic Descriptive Statistics"
   ]
  },
  {
   "cell_type": "code",
   "execution_count": 5,
   "id": "dc127190",
   "metadata": {},
   "outputs": [
    {
     "name": "stdout",
     "output_type": "stream",
     "text": [
      "year\n",
      "2016     569\n",
      "2017    1168\n",
      "2018    1920\n",
      "2019    3007\n",
      "2020    2213\n",
      "dtype: int64\n",
      "acceptance\n",
      "Accept    5408\n",
      "Reject    3469\n",
      "Name: count, dtype: int64\n",
      "acceptance      Accept     Reject\n",
      "year                             \n",
      "2016        100.000000   0.000000\n",
      "2017         75.085616  24.914384\n",
      "2018         70.052083  29.947917\n",
      "2019         64.183572  35.816428\n",
      "2020         31.043832  68.956168\n",
      "Average number of authors: 3.89\n"
     ]
    }
   ],
   "source": [
    "## Number of papers per year\n",
    "papers_per_year = metadata_df.groupby('year').size()\n",
    "print(papers_per_year)\n",
    "\n",
    "## Acceptance vs Rejection counts\n",
    "acceptance_counts = metadata_df['decision'].apply(lambda x: 'Accept' if 'Accept' in x else 'Reject')\n",
    "metadata_df['acceptance'] = acceptance_counts\n",
    "acceptance_summary = metadata_df['acceptance'].value_counts()\n",
    "print(acceptance_summary)\n",
    "\n",
    "## Acceptance Rate per Year\n",
    "acceptance_rate_per_year = metadata_df.groupby('year')['acceptance'].value_counts(normalize=True).unstack().fillna(0) * 100\n",
    "print(acceptance_rate_per_year)\n",
    "\n",
    "## Average number of authors per paper\n",
    "metadata_df['num_authors'] = metadata_df['authors'].apply(len)\n",
    "print(f\"Average number of authors: {metadata_df['num_authors'].mean():.2f}\")"
   ]
  },
  {
   "cell_type": "markdown",
   "id": "ccf41c34",
   "metadata": {},
   "source": [
    "5. Load Review Data and Analyze"
   ]
  },
  {
   "cell_type": "code",
   "execution_count": 6,
   "id": "ca9784bc",
   "metadata": {},
   "outputs": [
    {
     "name": "stdout",
     "output_type": "stream",
     "text": [
      "Loaded 28122 reviews.\n",
      "Average number of reviews per paper: 3.20\n",
      "Average review length (words): 374.47\n"
     ]
    }
   ],
   "source": [
    "review_stats = []\n",
    "\n",
    "for year in YEARS:\n",
    "    review_dir = os.path.join(DATASET_DIR, year, f'{year}_review')\n",
    "    if not os.path.exists(review_dir):\n",
    "        continue\n",
    "    for file_name in os.listdir(review_dir):\n",
    "        if file_name.endswith('.json'):\n",
    "            with open(os.path.join(review_dir, file_name), 'r', encoding='utf-8') as f:\n",
    "                data = json.load(f)\n",
    "                reviews = data.get('reviews', [])\n",
    "                for review in reviews:\n",
    "                    text = review.get('review', '')\n",
    "                    review_stats.append({\n",
    "                        'paper_id': data['id'],\n",
    "                        'review_length': len(text.split()),\n",
    "                        'rating': review.get('rating', None),\n",
    "                        'confidence': review.get('confidence', None)\n",
    "                    })\n",
    "\n",
    "reviews_df = pd.DataFrame(review_stats)\n",
    "print(f\"Loaded {len(reviews_df)} reviews.\")\n",
    "reviews_df.head()\n",
    "\n",
    "## Average number of reviews per paper\n",
    "reviews_per_paper = reviews_df.groupby('paper_id').size()\n",
    "print(f\"Average number of reviews per paper: {reviews_per_paper.mean():.2f}\")\n",
    "\n",
    "## Average review length\n",
    "print(f\"Average review length (words): {reviews_df['review_length'].mean():.2f}\")"
   ]
  },
  {
   "cell_type": "markdown",
   "id": "5ac1b82c",
   "metadata": {},
   "source": [
    "6. Simple Visualizations"
   ]
  },
  {
   "cell_type": "code",
   "execution_count": 7,
   "id": "3063c57a",
   "metadata": {},
   "outputs": [
    {
     "data": {
      "image/png": "[encoded data removed]",
      "text/plain": [
       "<Figure size 1000x600 with 1 Axes>"
      ]
     },
     "metadata": {},
     "output_type": "display_data"
    },
    {
     "data": {
      "image/png": "[encoded data removed]",
      "text/plain": [
       "<Figure size 1000x600 with 1 Axes>"
      ]
     },
     "metadata": {},
     "output_type": "display_data"
    }
   ],
   "source": [
    "## Acceptance Rate per Year\n",
    "acceptance_rate_per_year.plot(kind='bar', stacked=True, figsize=(10,6))\n",
    "plt.title('Acceptance vs Rejection Rate per Year')\n",
    "plt.ylabel('Percentage')\n",
    "plt.xlabel('Year')\n",
    "plt.legend(title='Decision')\n",
    "plt.xticks(rotation=45)\n",
    "plt.grid(True)\n",
    "plt.tight_layout()\n",
    "plt.show()\n",
    "\n",
    "## Review Length Distribution\n",
    "plt.figure(figsize=(10,6))\n",
    "sns.histplot(reviews_df['review_length'], bins=50, kde=True)\n",
    "plt.title('Distribution of Review Lengths')\n",
    "plt.xlabel('Number of Words')\n",
    "plt.ylabel('Frequency')\n",
    "plt.grid(True)\n",
    "plt.tight_layout()\n",
    "plt.show()"
   ]
  },
  {
   "cell_type": "markdown",
   "id": "d569e018",
   "metadata": {},
   "source": [
    "7. Quality Checks"
   ]
  },
  {
   "cell_type": "code",
   "execution_count": 8,
   "id": "5272f77b",
   "metadata": {},
   "outputs": [
    {
     "name": "stdout",
     "output_type": "stream",
     "text": [
      "Papers missing content info: 19\n",
      "Papers missing reviews: 98\n",
      "Reviews missing rating: 12391\n",
      "Reviews missing confidence: 15929\n"
     ]
    }
   ],
   "source": [
    "## Papers missing content or reviews\n",
    "missing_content = metadata_df[metadata_df['title'].isnull() | metadata_df['authors'].isnull()]\n",
    "missing_reviews = metadata_df[metadata_df['paper_id'].isin(reviews_df['paper_id']) == False]\n",
    "print(f\"Papers missing content info: {len(missing_content)}\")\n",
    "print(f\"Papers missing reviews: {len(missing_reviews)}\")\n",
    "\n",
    "## Reviews missing rating or confidence\n",
    "missing_rating = reviews_df['rating'].isnull().sum()\n",
    "missing_confidence = reviews_df['confidence'].isnull().sum()\n",
    "print(f\"Reviews missing rating: {missing_rating}\")\n",
    "print(f\"Reviews missing confidence: {missing_confidence}\")\n"
   ]
  }
 ],
 "metadata": {
  "kernelspec": {
   "display_name": "Python 3",
   "language": "python",
   "name": "python3"
  },
  "language_info": {
   "codemirror_mode": {
    "name": "ipython",
    "version": 3
   },
   "file_extension": ".py",
   "mimetype": "text/x-python",
   "name": "python",
   "nbconvert_exporter": "python",
   "pygments_lexer": "ipython3",
   "version": "3.12.4"
  }
 },
 "nbformat": 4,
 "nbformat_minor": 5
}
